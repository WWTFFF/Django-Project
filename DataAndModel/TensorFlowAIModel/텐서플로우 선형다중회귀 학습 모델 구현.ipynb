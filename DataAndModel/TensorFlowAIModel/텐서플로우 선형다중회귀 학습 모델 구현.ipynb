{
 "cells": [
  {
   "cell_type": "markdown",
   "id": "d1e1542b",
   "metadata": {},
   "source": [
    "# 텐서플로우 다중선형회귀 모델링"
   ]
  },
  {
   "cell_type": "markdown",
   "id": "8458961c",
   "metadata": {},
   "source": [
    "### Import"
   ]
  },
  {
   "cell_type": "code",
   "execution_count": 1,
   "id": "f234e35c",
   "metadata": {
    "scrolled": true
   },
   "outputs": [],
   "source": [
    "import numpy as np\n",
    "import pandas as pd\n",
    "import os\n",
    "from sklearn.model_selection import train_test_split\n",
    "import tensorflow as tf\n",
    "from tensorflow import keras\n",
    "from tensorflow.keras import layers"
   ]
  },
  {
   "cell_type": "code",
   "execution_count": 2,
   "id": "4243eff8",
   "metadata": {},
   "outputs": [
    {
     "name": "stdout",
     "output_type": "stream",
     "text": [
      "2.10.0\n"
     ]
    }
   ],
   "source": [
    "print(tf.__version__)"
   ]
  },
  {
   "cell_type": "markdown",
   "id": "ce54ea83",
   "metadata": {},
   "source": [
    "### 컬럼명"
   ]
  },
  {
   "cell_type": "code",
   "execution_count": 3,
   "id": "d8eb239e",
   "metadata": {},
   "outputs": [],
   "source": [
    "columns = [\"평균기온\", \"최고온도\", \"최저온도\", \"기온고저\", \"평균습도\", \"강수량\"]"
   ]
  },
  {
   "cell_type": "code",
   "execution_count": 4,
   "id": "95001f14",
   "metadata": {},
   "outputs": [],
   "source": [
    "# 경로 설정\n",
    "products = os.listdir(\"../DataRefine/거래물량 데이터/정제된 파일\")\n",
    "read_path = \"../DataRefine/거래물량 데이터/정제된 파일\""
   ]
  },
  {
   "cell_type": "code",
   "execution_count": 5,
   "id": "82e27a24",
   "metadata": {
    "scrolled": true
   },
   "outputs": [
    {
     "data": {
      "text/html": [
       "<div>\n",
       "<style scoped>\n",
       "    .dataframe tbody tr th:only-of-type {\n",
       "        vertical-align: middle;\n",
       "    }\n",
       "\n",
       "    .dataframe tbody tr th {\n",
       "        vertical-align: top;\n",
       "    }\n",
       "\n",
       "    .dataframe thead th {\n",
       "        text-align: right;\n",
       "    }\n",
       "</style>\n",
       "<table border=\"1\" class=\"dataframe\">\n",
       "  <thead>\n",
       "    <tr style=\"text-align: right;\">\n",
       "      <th></th>\n",
       "      <th>평균기온</th>\n",
       "      <th>최고온도</th>\n",
       "      <th>최저온도</th>\n",
       "      <th>기온고저</th>\n",
       "      <th>평균습도</th>\n",
       "      <th>강수량</th>\n",
       "      <th>거래물량</th>\n",
       "    </tr>\n",
       "  </thead>\n",
       "  <tbody>\n",
       "    <tr>\n",
       "      <th>0</th>\n",
       "      <td>-9.20</td>\n",
       "      <td>-3.03</td>\n",
       "      <td>-15.40</td>\n",
       "      <td>12.37</td>\n",
       "      <td>62.83</td>\n",
       "      <td>1.33</td>\n",
       "      <td>2.43000</td>\n",
       "    </tr>\n",
       "    <tr>\n",
       "      <th>1</th>\n",
       "      <td>-9.90</td>\n",
       "      <td>-2.80</td>\n",
       "      <td>-17.00</td>\n",
       "      <td>14.20</td>\n",
       "      <td>58.50</td>\n",
       "      <td>1.38</td>\n",
       "      <td>1.27500</td>\n",
       "    </tr>\n",
       "    <tr>\n",
       "      <th>2</th>\n",
       "      <td>-9.68</td>\n",
       "      <td>-2.14</td>\n",
       "      <td>-17.22</td>\n",
       "      <td>15.08</td>\n",
       "      <td>57.20</td>\n",
       "      <td>1.40</td>\n",
       "      <td>1.39000</td>\n",
       "    </tr>\n",
       "    <tr>\n",
       "      <th>3</th>\n",
       "      <td>-8.93</td>\n",
       "      <td>-1.33</td>\n",
       "      <td>-16.55</td>\n",
       "      <td>15.22</td>\n",
       "      <td>56.33</td>\n",
       "      <td>1.42</td>\n",
       "      <td>1.39000</td>\n",
       "    </tr>\n",
       "    <tr>\n",
       "      <th>4</th>\n",
       "      <td>-8.53</td>\n",
       "      <td>-0.81</td>\n",
       "      <td>-16.26</td>\n",
       "      <td>15.44</td>\n",
       "      <td>54.86</td>\n",
       "      <td>1.43</td>\n",
       "      <td>1.54875</td>\n",
       "    </tr>\n",
       "    <tr>\n",
       "      <th>...</th>\n",
       "      <td>...</td>\n",
       "      <td>...</td>\n",
       "      <td>...</td>\n",
       "      <td>...</td>\n",
       "      <td>...</td>\n",
       "      <td>...</td>\n",
       "      <td>...</td>\n",
       "    </tr>\n",
       "    <tr>\n",
       "      <th>3089</th>\n",
       "      <td>1.00</td>\n",
       "      <td>9.10</td>\n",
       "      <td>-5.59</td>\n",
       "      <td>14.70</td>\n",
       "      <td>66.56</td>\n",
       "      <td>14.78</td>\n",
       "      <td>4.80542</td>\n",
       "    </tr>\n",
       "    <tr>\n",
       "      <th>3090</th>\n",
       "      <td>0.86</td>\n",
       "      <td>8.94</td>\n",
       "      <td>-5.65</td>\n",
       "      <td>14.59</td>\n",
       "      <td>67.05</td>\n",
       "      <td>13.91</td>\n",
       "      <td>4.85012</td>\n",
       "    </tr>\n",
       "    <tr>\n",
       "      <th>3091</th>\n",
       "      <td>0.85</td>\n",
       "      <td>8.81</td>\n",
       "      <td>-5.62</td>\n",
       "      <td>14.42</td>\n",
       "      <td>67.16</td>\n",
       "      <td>13.04</td>\n",
       "      <td>4.82448</td>\n",
       "    </tr>\n",
       "    <tr>\n",
       "      <th>3092</th>\n",
       "      <td>0.73</td>\n",
       "      <td>8.41</td>\n",
       "      <td>-5.53</td>\n",
       "      <td>13.94</td>\n",
       "      <td>66.61</td>\n",
       "      <td>12.16</td>\n",
       "      <td>4.97581</td>\n",
       "    </tr>\n",
       "    <tr>\n",
       "      <th>3093</th>\n",
       "      <td>0.42</td>\n",
       "      <td>8.01</td>\n",
       "      <td>-5.79</td>\n",
       "      <td>13.80</td>\n",
       "      <td>65.23</td>\n",
       "      <td>11.00</td>\n",
       "      <td>5.11219</td>\n",
       "    </tr>\n",
       "  </tbody>\n",
       "</table>\n",
       "<p>3094 rows × 7 columns</p>\n",
       "</div>"
      ],
      "text/plain": [
       "      평균기온  최고온도   최저온도   기온고저   평균습도    강수량     거래물량\n",
       "0    -9.20 -3.03 -15.40  12.37  62.83   1.33  2.43000\n",
       "1    -9.90 -2.80 -17.00  14.20  58.50   1.38  1.27500\n",
       "2    -9.68 -2.14 -17.22  15.08  57.20   1.40  1.39000\n",
       "3    -8.93 -1.33 -16.55  15.22  56.33   1.42  1.39000\n",
       "4    -8.53 -0.81 -16.26  15.44  54.86   1.43  1.54875\n",
       "...    ...   ...    ...    ...    ...    ...      ...\n",
       "3089  1.00  9.10  -5.59  14.70  66.56  14.78  4.80542\n",
       "3090  0.86  8.94  -5.65  14.59  67.05  13.91  4.85012\n",
       "3091  0.85  8.81  -5.62  14.42  67.16  13.04  4.82448\n",
       "3092  0.73  8.41  -5.53  13.94  66.61  12.16  4.97581\n",
       "3093  0.42  8.01  -5.79  13.80  65.23  11.00  5.11219\n",
       "\n",
       "[3094 rows x 7 columns]"
      ]
     },
     "execution_count": 5,
     "metadata": {},
     "output_type": "execute_result"
    }
   ],
   "source": [
    "df = pd.read_csv(f\"{read_path}/{products[0]}\")\n",
    "df"
   ]
  },
  {
   "cell_type": "markdown",
   "id": "3b9fe9f4",
   "metadata": {},
   "source": [
    "### 데이터 분리"
   ]
  },
  {
   "cell_type": "code",
   "execution_count": 6,
   "id": "30d8ed95",
   "metadata": {},
   "outputs": [],
   "source": [
    "df_x_data = df.drop(['거래물량'], axis=1)\n",
    "df_y_data = df['거래물량']\n",
    "\n",
    "df_x_train, df_x_test, df_y_train, df_y_test = train_test_split(df_x_data, df_y_data, test_size=0.3, random_state=20221004)\n",
    "# df_train, df_test = train_test_split(df, test_size=0.3, random_state=20221004, stratify=df['거래물량'])"
   ]
  },
  {
   "cell_type": "markdown",
   "id": "942045fe",
   "metadata": {},
   "source": [
    "### 분리된 데이터 출력"
   ]
  },
  {
   "cell_type": "code",
   "execution_count": 7,
   "id": "13aa9d06",
   "metadata": {
    "scrolled": false
   },
   "outputs": [
    {
     "name": "stdout",
     "output_type": "stream",
     "text": [
      "X 훈련데이터\n",
      "2165\n",
      "평균기온    12.830092\n",
      "최고온도    19.629774\n",
      "최저온도     6.531977\n",
      "기온고저    13.097806\n",
      "평균습도    66.978000\n",
      "강수량     54.873150\n",
      "dtype: float64\n",
      "Y 훈련데이터\n",
      "2165\n",
      "57.05457213394919\n",
      "\n",
      "X 테스트데이터\n",
      "929\n",
      "평균기온    12.555727\n",
      "최고온도    19.361184\n",
      "최저온도     6.290172\n",
      "기온고저    13.071227\n",
      "평균습도    67.127675\n",
      "강수량     54.063552\n",
      "dtype: float64\n",
      "Y 테스트데이터\n",
      "929\n",
      "53.97259765339068\n"
     ]
    },
    {
     "name": "stderr",
     "output_type": "stream",
     "text": [
      "C:\\Users\\JungHoimin\\anaconda3\\envs\\WWTFFF\\lib\\site-packages\\numpy\\core\\fromnumeric.py:3430: FutureWarning: In a future version, DataFrame.mean(axis=None) will return a scalar mean over the entire DataFrame. To retain the old behavior, use 'frame.mean(axis=0)' or just 'frame.mean()'\n",
      "  return mean(axis=axis, dtype=dtype, out=out, **kwargs)\n"
     ]
    }
   ],
   "source": [
    "print(\"X 훈련데이터\")\n",
    "print(len(df_x_train), np.mean(df_x_train), sep='\\n')\n",
    "print(\"Y 훈련데이터\")\n",
    "print(len(df_y_train), np.mean(df_y_train), sep='\\n')\n",
    "print()\n",
    "print(\"X 테스트데이터\")\n",
    "print(len(df_x_test), np.mean(df_x_test), sep='\\n')\n",
    "print(\"Y 테스트데이터\")\n",
    "print(len(df_y_test), np.mean(df_y_test), sep='\\n')"
   ]
  },
  {
   "cell_type": "code",
   "execution_count": 8,
   "id": "2c2ed666",
   "metadata": {},
   "outputs": [],
   "source": [
    "import matplotlib.pyplot as plt"
   ]
  },
  {
   "cell_type": "code",
   "execution_count": 9,
   "id": "335aa627",
   "metadata": {},
   "outputs": [
    {
     "data": {
      "text/plain": [
       "2165"
      ]
     },
     "execution_count": 9,
     "metadata": {},
     "output_type": "execute_result"
    }
   ],
   "source": [
    "len(df_x_train)"
   ]
  },
  {
   "cell_type": "code",
   "execution_count": 10,
   "id": "1d43f0f6",
   "metadata": {},
   "outputs": [
    {
     "data": {
      "text/plain": [
       "<AxesSubplot:>"
      ]
     },
     "execution_count": 10,
     "metadata": {},
     "output_type": "execute_result"
    },
    {
     "data": {
      "image/png": "[encoded data removed]",
      "text/plain": [
       "<Figure size 640x480 with 1 Axes>"
      ]
     },
     "metadata": {},
     "output_type": "display_data"
    }
   ],
   "source": [
    "df_x_train['평균기온'].hist()"
   ]
  },
  {
   "cell_type": "code",
   "execution_count": 11,
   "id": "9405583f",
   "metadata": {},
   "outputs": [
    {
     "data": {
      "text/plain": [
       "<AxesSubplot:>"
      ]
     },
     "execution_count": 11,
     "metadata": {},
     "output_type": "execute_result"
    },
    {
     "data": {
      "image/png": "[encoded data removed]",
      "text/plain": [
       "<Figure size 640x480 with 1 Axes>"
      ]
     },
     "metadata": {},
     "output_type": "display_data"
    }
   ],
   "source": [
    "df_x_train['평균기온'].hist(bins=20)"
   ]
  },
  {
   "cell_type": "markdown",
   "id": "ae862aa8",
   "metadata": {},
   "source": [
    "### 데이터 삽입"
   ]
  },
  {
   "cell_type": "code",
   "execution_count": 12,
   "id": "96c1297a",
   "metadata": {},
   "outputs": [],
   "source": [
    "train_stats = df_x_train.describe()\n",
    "train_stats = train_stats.transpose()"
   ]
  },
  {
   "cell_type": "code",
   "execution_count": 13,
   "id": "2323560a",
   "metadata": {},
   "outputs": [],
   "source": [
    "def norm(x):\n",
    "    return (x - train_stats['mean']) / train_stats['std']\n",
    "normed_train_data = norm(df_x_train)\n",
    "normed_test_data = norm(df_x_test)"
   ]
  },
  {
   "cell_type": "code",
   "execution_count": 14,
   "id": "0135ec18",
   "metadata": {},
   "outputs": [],
   "source": [
    "def build_model():\n",
    "    model = tf.keras.Sequential([\n",
    "        layers.Dense(64, activation='relu', input_shape=[len(df_x_train.keys())]),\n",
    "        layers.Dense(64, activation='relu'),\n",
    "        layers.Dense(1)\n",
    "    ])\n",
    "\n",
    "    optimizer = tf.keras.optimizers.RMSprop(0.001)\n",
    "\n",
    "    model.compile(loss='mse',\n",
    "                  optimizer=optimizer,\n",
    "                  metrics=['mae', 'mse'])\n",
    "    return model"
   ]
  },
  {
   "cell_type": "code",
   "execution_count": 15,
   "id": "917b18fd",
   "metadata": {},
   "outputs": [],
   "source": [
    "model = build_model()"
   ]
  },
  {
   "cell_type": "code",
   "execution_count": 16,
   "id": "e7baee69",
   "metadata": {},
   "outputs": [
    {
     "name": "stdout",
     "output_type": "stream",
     "text": [
      "Model: \"sequential\"\n",
      "_________________________________________________________________\n",
      " Layer (type)                Output Shape              Param #   \n",
      "=================================================================\n",
      " dense (Dense)               (None, 64)                448       \n",
      "                                                                 \n",
      " dense_1 (Dense)             (None, 64)                4160      \n",
      "                                                                 \n",
      " dense_2 (Dense)             (None, 1)                 65        \n",
      "                                                                 \n",
      "=================================================================\n",
      "Total params: 4,673\n",
      "Trainable params: 4,673\n",
      "Non-trainable params: 0\n",
      "_________________________________________________________________\n"
     ]
    }
   ],
   "source": [
    "model.summary()"
   ]
  },
  {
   "cell_type": "code",
   "execution_count": 17,
   "id": "ee941a4f",
   "metadata": {},
   "outputs": [
    {
     "name": "stdout",
     "output_type": "stream",
     "text": [
      "1/1 [==============================] - 0s 149ms/step\n"
     ]
    },
    {
     "data": {
      "text/plain": [
       "array([[-0.05811186],\n",
       "       [ 0.16144875],\n",
       "       [ 0.65018964],\n",
       "       [ 0.4514169 ],\n",
       "       [-0.15003514],\n",
       "       [-0.0771072 ],\n",
       "       [ 0.5053023 ],\n",
       "       [ 0.06939423],\n",
       "       [-0.0296039 ],\n",
       "       [ 0.48379034]], dtype=float32)"
      ]
     },
     "execution_count": 17,
     "metadata": {},
     "output_type": "execute_result"
    }
   ],
   "source": [
    "example_batch = normed_train_data[:10]\n",
    "example_result = model.predict(example_batch)\n",
    "example_result"
   ]
  },
  {
   "cell_type": "code",
   "execution_count": 18,
   "id": "98a88401",
   "metadata": {},
   "outputs": [
    {
     "name": "stdout",
     "output_type": "stream",
     "text": [
      "\n",
      "....................................................................................................\n",
      "....................................................................................................\n",
      "....................................................................................................\n",
      "....................................................................................................\n",
      "....................................................................................................\n",
      "....................................................................................................\n",
      "....................................................................................................\n",
      "....................................................................................................\n",
      "....................................................................................................\n",
      "....................................................................................................\n",
      "....................................................................................................\n",
      "....................................................................................................\n",
      "....................................................................................................\n",
      "....................................................................................................\n",
      "....................................................................................................\n",
      "....................................................................................................\n",
      "....................................................................................................\n",
      "....................................................................................................\n",
      "....................................................................................................\n",
      "....................................................................................................\n",
      "....................................................................................................\n",
      "....................................................................................................\n",
      "....................................................................................................\n",
      "....................................................................................................\n",
      "....................................................................................................\n",
      "....................................................................................................\n",
      "....................................................................................................\n",
      "....................................................................................................\n",
      "....................................................................................................\n",
      "....................................................................................................\n",
      "....................................................................................................\n",
      "....................................................................................................\n",
      "....................................................................................................\n",
      "....................................................................................................\n",
      "....................................................................................................\n",
      "....................................................................................................\n",
      "....................................................................................................\n",
      "....................................................................................................\n",
      "....................................................................................................\n",
      "....................................................................................................\n",
      "....................................................................................................\n",
      "....................................................................................................\n",
      "....................................................................................................\n",
      "....................................................................................................\n",
      "....................................................................................................\n",
      "....................................................................................................\n",
      "....................................................................................................\n",
      "....................................................................................................\n",
      "....................................................................................................\n",
      "....................................................................................................\n",
      "....................................................................................................\n",
      "....................................................................................................\n",
      "....................................................................................................\n",
      "....................................................................................................\n",
      "....................................................................................................\n",
      "....................................................................................................\n",
      "....................................................................................................\n",
      "....................................................................................................\n",
      "....................................................................................................\n",
      "....................................................................................................\n",
      "....................................................................................................\n",
      "....................................................................................................\n",
      "....................................................................................................\n",
      "....................................................................................................\n",
      "....................................................................................................\n",
      "....................................................................................................\n",
      "....................................................................................................\n",
      "....................................................................................................\n",
      "....................................................................................................\n",
      "....................................................................................................\n",
      "....................................................................................................\n",
      "....................................................................................................\n",
      "....................................................................................................\n",
      "....................................................................................................\n",
      "....................................................................................................\n",
      "....................................................................................................\n",
      "....................................................................................................\n",
      "....................................................................................................\n",
      "....................................................................................................\n",
      "....................................................................................................\n",
      "....................................................................................................\n"
     ]
    },
    {
     "name": "stdout",
     "output_type": "stream",
     "text": [
      "....................................................................................................\n",
      "....................................................................................................\n",
      "....................................................................................................\n",
      "....................................................................................................\n",
      "....................................................................................................\n",
      "....................................................................................................\n",
      "....................................................................................................\n",
      "....................................................................................................\n",
      "....................................................................................................\n",
      "....................................................................................................\n",
      "....................................................................................................\n",
      "....................................................................................................\n",
      "....................................................................................................\n",
      "....................................................................................................\n",
      "....................................................................................................\n",
      "....................................................................................................\n",
      "....................................................................................................\n",
      "....................................................................................................\n",
      "...................................................................................................."
     ]
    }
   ],
   "source": [
    "class PrintDot(keras.callbacks.Callback):\n",
    "    def on_epoch_end(self, epoch, logs):\n",
    "        if epoch % 100 == 0:\n",
    "            print('')\n",
    "        print('.', end='')\n",
    "\n",
    "EPOCHS = 10000\n",
    "\n",
    "history = model.fit(\n",
    "    normed_train_data, df_y_train,\n",
    "    epochs=EPOCHS, validation_split = 0.2, verbose=0,\n",
    "    callbacks=[PrintDot()]\n",
    ")"
   ]
  },
  {
   "cell_type": "code",
   "execution_count": 19,
   "id": "258b2546",
   "metadata": {},
   "outputs": [
    {
     "data": {
      "text/html": [
       "<div>\n",
       "<style scoped>\n",
       "    .dataframe tbody tr th:only-of-type {\n",
       "        vertical-align: middle;\n",
       "    }\n",
       "\n",
       "    .dataframe tbody tr th {\n",
       "        vertical-align: top;\n",
       "    }\n",
       "\n",
       "    .dataframe thead th {\n",
       "        text-align: right;\n",
       "    }\n",
       "</style>\n",
       "<table border=\"1\" class=\"dataframe\">\n",
       "  <thead>\n",
       "    <tr style=\"text-align: right;\">\n",
       "      <th></th>\n",
       "      <th>loss</th>\n",
       "      <th>mae</th>\n",
       "      <th>mse</th>\n",
       "      <th>val_loss</th>\n",
       "      <th>val_mae</th>\n",
       "      <th>val_mse</th>\n",
       "      <th>epoch</th>\n",
       "    </tr>\n",
       "  </thead>\n",
       "  <tbody>\n",
       "    <tr>\n",
       "      <th>9995</th>\n",
       "      <td>161.247589</td>\n",
       "      <td>7.296282</td>\n",
       "      <td>161.247589</td>\n",
       "      <td>420.974884</td>\n",
       "      <td>11.882678</td>\n",
       "      <td>420.974884</td>\n",
       "      <td>9995</td>\n",
       "    </tr>\n",
       "    <tr>\n",
       "      <th>9996</th>\n",
       "      <td>163.492020</td>\n",
       "      <td>7.237617</td>\n",
       "      <td>163.492020</td>\n",
       "      <td>454.099915</td>\n",
       "      <td>13.020432</td>\n",
       "      <td>454.099915</td>\n",
       "      <td>9996</td>\n",
       "    </tr>\n",
       "    <tr>\n",
       "      <th>9997</th>\n",
       "      <td>163.328796</td>\n",
       "      <td>7.223493</td>\n",
       "      <td>163.328796</td>\n",
       "      <td>525.173340</td>\n",
       "      <td>14.551432</td>\n",
       "      <td>525.173340</td>\n",
       "      <td>9997</td>\n",
       "    </tr>\n",
       "    <tr>\n",
       "      <th>9998</th>\n",
       "      <td>149.017090</td>\n",
       "      <td>7.236773</td>\n",
       "      <td>149.017090</td>\n",
       "      <td>463.425446</td>\n",
       "      <td>12.517331</td>\n",
       "      <td>463.425446</td>\n",
       "      <td>9998</td>\n",
       "    </tr>\n",
       "    <tr>\n",
       "      <th>9999</th>\n",
       "      <td>167.261856</td>\n",
       "      <td>7.478855</td>\n",
       "      <td>167.261856</td>\n",
       "      <td>404.620880</td>\n",
       "      <td>11.195875</td>\n",
       "      <td>404.620880</td>\n",
       "      <td>9999</td>\n",
       "    </tr>\n",
       "  </tbody>\n",
       "</table>\n",
       "</div>"
      ],
      "text/plain": [
       "            loss       mae         mse    val_loss    val_mae     val_mse  \\\n",
       "9995  161.247589  7.296282  161.247589  420.974884  11.882678  420.974884   \n",
       "9996  163.492020  7.237617  163.492020  454.099915  13.020432  454.099915   \n",
       "9997  163.328796  7.223493  163.328796  525.173340  14.551432  525.173340   \n",
       "9998  149.017090  7.236773  149.017090  463.425446  12.517331  463.425446   \n",
       "9999  167.261856  7.478855  167.261856  404.620880  11.195875  404.620880   \n",
       "\n",
       "      epoch  \n",
       "9995   9995  \n",
       "9996   9996  \n",
       "9997   9997  \n",
       "9998   9998  \n",
       "9999   9999  "
      ]
     },
     "execution_count": 19,
     "metadata": {},
     "output_type": "execute_result"
    }
   ],
   "source": [
    "hist = pd.DataFrame(history.history)\n",
    "hist['epoch'] = history.epoch\n",
    "hist.tail()"
   ]
  },
  {
   "cell_type": "code",
   "execution_count": 20,
   "id": "bb3d23c7",
   "metadata": {
    "scrolled": false
   },
   "outputs": [
    {
     "data": {
      "image/png": "[encoded data removed]",
      "text/plain": [
       "<Figure size 800x1200 with 2 Axes>"
      ]
     },
     "metadata": {},
     "output_type": "display_data"
    }
   ],
   "source": [
    "def plot_history(history):\n",
    "    hist = pd.DataFrame(history.history)\n",
    "    hist['epoch'] = history.epoch\n",
    "\n",
    "    plt.figure(figsize=(8,12))\n",
    "\n",
    "    plt.subplot(2,1,1)\n",
    "    plt.xlabel('Epoch')\n",
    "    plt.ylabel('Mean Abs Error [Selling Data]')\n",
    "    plt.plot(hist['epoch'], hist['mae'],\n",
    "             label='Train Error')\n",
    "    plt.plot(hist['epoch'], hist['val_mae'],\n",
    "             label = 'Val Error')\n",
    "    plt.ylim([0,5])\n",
    "    plt.legend()\n",
    "\n",
    "    plt.subplot(2,1,2)\n",
    "    plt.xlabel('Epoch')\n",
    "    plt.ylabel('Mean Square Error [$Selling Data^2$]')\n",
    "    plt.plot(hist['epoch'], hist['mse'],\n",
    "             label='Train Error')\n",
    "    plt.plot(hist['epoch'], hist['val_mse'],\n",
    "             label = 'Val Error')\n",
    "    plt.ylim([0,20])\n",
    "    plt.legend()\n",
    "    plt.show()\n",
    "\n",
    "plot_history(history)"
   ]
  },
  {
   "cell_type": "code",
   "execution_count": 21,
   "id": "f0901070",
   "metadata": {},
   "outputs": [
    {
     "name": "stdout",
     "output_type": "stream",
     "text": [
      "30/30 - 0s - loss: 256.4920 - mae: 8.7714 - mse: 256.4920 - 43ms/epoch - 1ms/step\n",
      "테스트 세트의 평균 절대 오차:  8.77 거래물량\n"
     ]
    }
   ],
   "source": [
    "loss, mae, mse = model.evaluate(normed_test_data, df_y_test , verbose=2)\n",
    "\n",
    "print(\"테스트 세트의 평균 절대 오차: {:5.2f} 거래물량\".format(mae))"
   ]
  },
  {
   "cell_type": "code",
   "execution_count": 22,
   "id": "b165662e",
   "metadata": {
    "scrolled": false
   },
   "outputs": [
    {
     "name": "stdout",
     "output_type": "stream",
     "text": [
      "30/30 [==============================] - 0s 846us/step\n"
     ]
    },
    {
     "data": {
      "image/png": "[encoded data removed]",
      "text/plain": [
       "<Figure size 640x480 with 1 Axes>"
      ]
     },
     "metadata": {},
     "output_type": "display_data"
    }
   ],
   "source": [
    "test_predictions = model.predict(normed_test_data).flatten()\n",
    "\n",
    "plt.scatter(df_y_test, test_predictions)\n",
    "plt.xlabel('True Values [Selling Data]')\n",
    "plt.ylabel('Predictions [Selling Data]')\n",
    "plt.axis('equal')\n",
    "plt.axis('square')\n",
    "plt.xlim([0,plt.xlim()[1]])\n",
    "plt.ylim([0,plt.ylim()[1]])\n",
    "_ = plt.plot([-100, 100], [-100, 100])"
   ]
  },
  {
   "cell_type": "code",
   "execution_count": 23,
   "id": "58cd6f2c",
   "metadata": {},
   "outputs": [
    {
     "data": {
      "image/png": "[encoded data removed]",
      "text/plain": [
       "<Figure size 640x480 with 1 Axes>"
      ]
     },
     "metadata": {},
     "output_type": "display_data"
    }
   ],
   "source": [
    "error = test_predictions - df_y_test\n",
    "plt.hist(error, bins = 25)\n",
    "plt.xlabel(\"Prediction Error [Selling Data]\")\n",
    "_ = plt.ylabel(\"Count\")"
   ]
  },
  {
   "cell_type": "markdown",
   "id": "c674afdb",
   "metadata": {},
   "source": [
    "### Save Model"
   ]
  },
  {
   "cell_type": "code",
   "execution_count": 24,
   "id": "f762a887",
   "metadata": {
    "scrolled": true
   },
   "outputs": [
    {
     "name": "stdout",
     "output_type": "stream",
     "text": [
      "INFO:tensorflow:Assets written to: ./saved_model/my_model\\assets\n"
     ]
    }
   ],
   "source": [
    "model.save('./saved_model/my_model')"
   ]
  },
  {
   "cell_type": "markdown",
   "id": "f6278ddc",
   "metadata": {},
   "source": [
    "### 모델 불러오기"
   ]
  },
  {
   "cell_type": "code",
   "execution_count": 25,
   "id": "cced0aad",
   "metadata": {},
   "outputs": [],
   "source": [
    "new_model = tf.keras.models.load_model(\"saved_model/my_model\")"
   ]
  },
  {
   "cell_type": "code",
   "execution_count": 26,
   "id": "0791ff4d",
   "metadata": {},
   "outputs": [
    {
     "name": "stdout",
     "output_type": "stream",
     "text": [
      "30/30 - 0s - loss: 256.4920 - mae: 8.7714 - mse: 256.4920 - 122ms/epoch - 4ms/step\n",
      "테스트 세트의 평균 절대 오차:  8.77 거래물량\n"
     ]
    }
   ],
   "source": [
    "loss, mae, mse = new_model.evaluate(normed_test_data, df_y_test , verbose=2)\n",
    "\n",
    "print(\"테스트 세트의 평균 절대 오차: {:5.2f} 거래물량\".format(mae))"
   ]
  }
 ],
 "metadata": {
  "kernelspec": {
   "display_name": "Python 3 (ipykernel)",
   "language": "python",
   "name": "python3"
  },
  "language_info": {
   "codemirror_mode": {
    "name": "ipython",
    "version": 3
   },
   "file_extension": ".py",
   "mimetype": "text/x-python",
   "name": "python",
   "nbconvert_exporter": "python",
   "pygments_lexer": "ipython3",
   "version": "3.8.13"
  }
 },
 "nbformat": 4,
 "nbformat_minor": 5
}
