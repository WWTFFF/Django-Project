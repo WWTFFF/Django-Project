{
 "cells": [
  {
   "cell_type": "markdown",
   "id": "7a04ab29",
   "metadata": {},
   "source": [
    "# 텐서플로우 다중선형회귀 모델링"
   ]
  },
  {
   "cell_type": "markdown",
   "id": "4963cb75",
   "metadata": {},
   "source": [
    "### Import"
   ]
  },
  {
   "cell_type": "code",
   "execution_count": 13,
   "id": "51f7cc91",
   "metadata": {},
   "outputs": [],
   "source": [
    "import numpy as np\n",
    "import pandas as pd\n",
    "import os\n",
    "from sklearn.model_selection import train_test_split"
   ]
  },
  {
   "cell_type": "markdown",
   "id": "b94b34f0",
   "metadata": {},
   "source": [
    "### 컬럼명"
   ]
  },
  {
   "cell_type": "code",
   "execution_count": 8,
   "id": "0602af2a",
   "metadata": {},
   "outputs": [],
   "source": [
    "columns = [\"평균기온\", \"최고온도\", \"최저온도\", \"기온고저\", \"평균습도\", \"강수량\"]"
   ]
  },
  {
   "cell_type": "code",
   "execution_count": 9,
   "id": "bcb1b639",
   "metadata": {},
   "outputs": [],
   "source": [
    "# 경로 설정\n",
    "products = os.listdir(\"../DataRefine/거래물량 데이터/정제된 파일\")\n",
    "read_path = \"../DataRefine/거래물량 데이터/정제된 파일\""
   ]
  },
  {
   "cell_type": "code",
   "execution_count": 10,
   "id": "bada3614",
   "metadata": {},
   "outputs": [
    {
     "data": {
      "text/html": [
       "<div>\n",
       "<style scoped>\n",
       "    .dataframe tbody tr th:only-of-type {\n",
       "        vertical-align: middle;\n",
       "    }\n",
       "\n",
       "    .dataframe tbody tr th {\n",
       "        vertical-align: top;\n",
       "    }\n",
       "\n",
       "    .dataframe thead th {\n",
       "        text-align: right;\n",
       "    }\n",
       "</style>\n",
       "<table border=\"1\" class=\"dataframe\">\n",
       "  <thead>\n",
       "    <tr style=\"text-align: right;\">\n",
       "      <th></th>\n",
       "      <th>평균기온</th>\n",
       "      <th>최고온도</th>\n",
       "      <th>최저온도</th>\n",
       "      <th>기온고저</th>\n",
       "      <th>평균습도</th>\n",
       "      <th>강수량</th>\n",
       "      <th>거래물량</th>\n",
       "    </tr>\n",
       "  </thead>\n",
       "  <tbody>\n",
       "    <tr>\n",
       "      <th>0</th>\n",
       "      <td>-9.20</td>\n",
       "      <td>-3.03</td>\n",
       "      <td>-15.40</td>\n",
       "      <td>12.37</td>\n",
       "      <td>62.83</td>\n",
       "      <td>1.33</td>\n",
       "      <td>2.43000</td>\n",
       "    </tr>\n",
       "    <tr>\n",
       "      <th>1</th>\n",
       "      <td>-9.90</td>\n",
       "      <td>-2.80</td>\n",
       "      <td>-17.00</td>\n",
       "      <td>14.20</td>\n",
       "      <td>58.50</td>\n",
       "      <td>1.38</td>\n",
       "      <td>1.27500</td>\n",
       "    </tr>\n",
       "    <tr>\n",
       "      <th>2</th>\n",
       "      <td>-9.68</td>\n",
       "      <td>-2.14</td>\n",
       "      <td>-17.22</td>\n",
       "      <td>15.08</td>\n",
       "      <td>57.20</td>\n",
       "      <td>1.40</td>\n",
       "      <td>1.39000</td>\n",
       "    </tr>\n",
       "    <tr>\n",
       "      <th>3</th>\n",
       "      <td>-8.93</td>\n",
       "      <td>-1.33</td>\n",
       "      <td>-16.55</td>\n",
       "      <td>15.22</td>\n",
       "      <td>56.33</td>\n",
       "      <td>1.42</td>\n",
       "      <td>1.39000</td>\n",
       "    </tr>\n",
       "    <tr>\n",
       "      <th>4</th>\n",
       "      <td>-8.53</td>\n",
       "      <td>-0.81</td>\n",
       "      <td>-16.26</td>\n",
       "      <td>15.44</td>\n",
       "      <td>54.86</td>\n",
       "      <td>1.43</td>\n",
       "      <td>1.54875</td>\n",
       "    </tr>\n",
       "    <tr>\n",
       "      <th>...</th>\n",
       "      <td>...</td>\n",
       "      <td>...</td>\n",
       "      <td>...</td>\n",
       "      <td>...</td>\n",
       "      <td>...</td>\n",
       "      <td>...</td>\n",
       "      <td>...</td>\n",
       "    </tr>\n",
       "    <tr>\n",
       "      <th>3089</th>\n",
       "      <td>1.00</td>\n",
       "      <td>9.10</td>\n",
       "      <td>-5.59</td>\n",
       "      <td>14.70</td>\n",
       "      <td>66.56</td>\n",
       "      <td>14.78</td>\n",
       "      <td>4.80542</td>\n",
       "    </tr>\n",
       "    <tr>\n",
       "      <th>3090</th>\n",
       "      <td>0.86</td>\n",
       "      <td>8.94</td>\n",
       "      <td>-5.65</td>\n",
       "      <td>14.59</td>\n",
       "      <td>67.05</td>\n",
       "      <td>13.91</td>\n",
       "      <td>4.85012</td>\n",
       "    </tr>\n",
       "    <tr>\n",
       "      <th>3091</th>\n",
       "      <td>0.85</td>\n",
       "      <td>8.81</td>\n",
       "      <td>-5.62</td>\n",
       "      <td>14.42</td>\n",
       "      <td>67.16</td>\n",
       "      <td>13.04</td>\n",
       "      <td>4.82448</td>\n",
       "    </tr>\n",
       "    <tr>\n",
       "      <th>3092</th>\n",
       "      <td>0.73</td>\n",
       "      <td>8.41</td>\n",
       "      <td>-5.53</td>\n",
       "      <td>13.94</td>\n",
       "      <td>66.61</td>\n",
       "      <td>12.16</td>\n",
       "      <td>4.97581</td>\n",
       "    </tr>\n",
       "    <tr>\n",
       "      <th>3093</th>\n",
       "      <td>0.42</td>\n",
       "      <td>8.01</td>\n",
       "      <td>-5.79</td>\n",
       "      <td>13.80</td>\n",
       "      <td>65.23</td>\n",
       "      <td>11.00</td>\n",
       "      <td>5.11219</td>\n",
       "    </tr>\n",
       "  </tbody>\n",
       "</table>\n",
       "<p>3094 rows × 7 columns</p>\n",
       "</div>"
      ],
      "text/plain": [
       "      평균기온  최고온도   최저온도   기온고저   평균습도    강수량     거래물량\n",
       "0    -9.20 -3.03 -15.40  12.37  62.83   1.33  2.43000\n",
       "1    -9.90 -2.80 -17.00  14.20  58.50   1.38  1.27500\n",
       "2    -9.68 -2.14 -17.22  15.08  57.20   1.40  1.39000\n",
       "3    -8.93 -1.33 -16.55  15.22  56.33   1.42  1.39000\n",
       "4    -8.53 -0.81 -16.26  15.44  54.86   1.43  1.54875\n",
       "...    ...   ...    ...    ...    ...    ...      ...\n",
       "3089  1.00  9.10  -5.59  14.70  66.56  14.78  4.80542\n",
       "3090  0.86  8.94  -5.65  14.59  67.05  13.91  4.85012\n",
       "3091  0.85  8.81  -5.62  14.42  67.16  13.04  4.82448\n",
       "3092  0.73  8.41  -5.53  13.94  66.61  12.16  4.97581\n",
       "3093  0.42  8.01  -5.79  13.80  65.23  11.00  5.11219\n",
       "\n",
       "[3094 rows x 7 columns]"
      ]
     },
     "execution_count": 10,
     "metadata": {},
     "output_type": "execute_result"
    }
   ],
   "source": [
    "df = pd.read_csv(f\"{read_path}/{products[0]}\")\n",
    "df"
   ]
  },
  {
   "cell_type": "code",
   "execution_count": 29,
   "id": "402db0c0",
   "metadata": {},
   "outputs": [],
   "source": [
    "df_x_data = df.drop(['거래물량'], axis=1)\n",
    "df_y_data = df['거래물량']\n",
    "\n",
    "df_x_train, df_x_test, df_y_train, df_y_test = train_test_split(df_x_data, df_y_data, test_size=0.3, random_state=20221004)\n",
    "# df_train, df_test = train_test_split(df, test_size=0.3, random_state=20221004, stratify=df['거래물량'])"
   ]
  },
  {
   "cell_type": "code",
   "execution_count": 42,
   "id": "579e60a3",
   "metadata": {},
   "outputs": [
    {
     "name": "stdout",
     "output_type": "stream",
     "text": [
      "X 훈련데이터\n",
      "2165\n",
      "평균기온    12.830092\n",
      "최고온도    19.629774\n",
      "최저온도     6.531977\n",
      "기온고저    13.097806\n",
      "평균습도    66.978000\n",
      "강수량     54.873150\n",
      "dtype: float64\n",
      "Y 훈련데이터\n",
      "2165\n",
      "57.05457213394919\n",
      "\n",
      "X 테스트데이터\n",
      "929\n",
      "평균기온    12.555727\n",
      "최고온도    19.361184\n",
      "최저온도     6.290172\n",
      "기온고저    13.071227\n",
      "평균습도    67.127675\n",
      "강수량     54.063552\n",
      "dtype: float64\n",
      "Y 테스트데이터\n",
      "929\n",
      "53.97259765339068\n"
     ]
    }
   ],
   "source": [
    "print(\"X 훈련데이터\")\n",
    "print(len(df_x_train), np.mean(df_x_train), sep='\\n')\n",
    "print(\"Y 훈련데이터\")\n",
    "print(len(df_y_train), np.mean(df_y_train), sep='\\n')\n",
    "print()\n",
    "print(\"X 테스트데이터\")\n",
    "print(len(df_x_test), np.mean(df_x_test), sep='\\n')\n",
    "print(\"Y 테스트데이터\")\n",
    "print(len(df_y_test), np.mean(df_y_test), sep='\\n')"
   ]
  },
  {
   "cell_type": "code",
   "execution_count": null,
   "id": "33d5f2bd",
   "metadata": {},
   "outputs": [],
   "source": []
  }
 ],
 "metadata": {
  "kernelspec": {
   "display_name": "Python 3 (ipykernel)",
   "language": "python",
   "name": "python3"
  },
  "language_info": {
   "codemirror_mode": {
    "name": "ipython",
    "version": 3
   },
   "file_extension": ".py",
   "mimetype": "text/x-python",
   "name": "python",
   "nbconvert_exporter": "python",
   "pygments_lexer": "ipython3",
   "version": "3.9.12"
  }
 },
 "nbformat": 4,
 "nbformat_minor": 5
}
